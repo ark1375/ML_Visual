{
 "cells": [
  {
   "cell_type": "markdown",
   "id": "6f1501f2-2441-4fbc-a50e-9effed4f5eda",
   "metadata": {},
   "source": [
    "# K-Nearest Neighbors Decision Boundary Visualization\n",
    "This is a visualization of 2D (2-feature) KNN algorithm which uses [Minkowski distance][1] to calculate the distance between to norms. The formula is as follows:  \n",
    "$$ D\\left(X,Y\\right) = \\left(\\sum_{i=1}^n |x_i-y_i|^p\\right)^{\\frac{1}{p}} $$  \n",
    "As you can see, this particular distance requires a value $p$ as an input. For $p=1$ the minkowski distance is equal to __Manhatan Distance__ and for $p=2$ it is as same as the __Euclidian Distance__.  \n",
    "\n",
    "In this demonstration, you have access to _p_ , _k_ and you are free to create a maximum of 5 classes for your data.\n",
    "\n",
    "## How to use?\n",
    "The list of required packages and libraries are available at [github page][2].  \n",
    "\n",
    "### To use the code:\n",
    "1. Run all the cells.\n",
    "2. At the bottom of the code, you will find an interactive GUI which is pretty self explanatory.\n",
    "3. Add points by clicking on plot, add classes, set p and k and run KNN (You may need to wait a little bit for the plot to show).\n",
    "\n",
    "Enjoy :))\n",
    "\n",
    "\n",
    "   [1]: https://en.wikipedia.org/wiki/Minkowski_distance\n",
    "   [2]: https://github.com/ark1375/ML_Visual"
   ]
  },
  {
   "cell_type": "code",
   "execution_count": 54,
   "id": "83383555-dc76-406b-9c08-3318b76b89cc",
   "metadata": {},
   "outputs": [],
   "source": [
    "%matplotlib widget\n",
    "\n",
    "import numpy as np\n",
    "import matplotlib.pyplot as plt\n",
    "import ipywidgets as widgets\n",
    "import math\n",
    "from collections import Counter\n",
    "from scipy.spatial import distance\n",
    "from sklearn.neighbors import KNeighborsClassifier"
   ]
  },
  {
   "cell_type": "code",
   "execution_count": 55,
   "id": "832d6554-5c3d-4376-a331-19be1980f7bf",
   "metadata": {
    "tags": []
   },
   "outputs": [],
   "source": [
    "color_lis =  ['black','red','blue','green','gold']\n",
    "\n",
    "data_x = []\n",
    "data_y = []\n",
    "data_class = []\n",
    "class_num = 0"
   ]
  },
  {
   "cell_type": "code",
   "execution_count": 56,
   "id": "936afc26-86e8-481b-99c2-a3d36946d47f",
   "metadata": {},
   "outputs": [],
   "source": [
    "btn_add_cls = widgets.Button(\n",
    "    description='Add Class',\n",
    "    disabled=False,\n",
    "    button_style=''\n",
    ")\n",
    "\n",
    "btn_calc_knn = widgets.Button(\n",
    "    description='Run KNN',\n",
    "    disabled=False,\n",
    "    button_style=''\n",
    ")\n",
    "\n",
    "btn_reset = widgets.Button(\n",
    "    description='Reset',\n",
    "    disabled=False,\n",
    "    button_style=''\n",
    ")\n",
    "\n",
    "slider_k = widgets.IntSlider(\n",
    "    value=2,\n",
    "    min=1,\n",
    "    max=10,\n",
    "    step=1,\n",
    "    description='K:',\n",
    "    disabled=False,\n",
    "    continuous_update=False,\n",
    "    orientation='horizontal',\n",
    "    readout=True,\n",
    "    readout_format='d'\n",
    ")\n",
    "\n",
    "slider_mink = widgets.IntSlider(\n",
    "    value=2,\n",
    "    min=1,\n",
    "    max=10,\n",
    "    step=1,\n",
    "    description='Dist-Coef:',\n",
    "    disabled=False,\n",
    "    continuous_update=False,\n",
    "    orientation='horizontal',\n",
    "    readout=True,\n",
    "    readout_format='d'\n",
    ")"
   ]
  },
  {
   "cell_type": "code",
   "execution_count": 57,
   "id": "4b4686b9-85bc-42cf-a5f1-68456d51b092",
   "metadata": {},
   "outputs": [],
   "source": [
    "def initialize_grid(fig , ax):\n",
    "    \n",
    "    ax.clear()\n",
    "    ax.scatter(x = [], y = [] )\n",
    "    ax.set_ylim([-1,1])\n",
    "    ax.set_xlim([-1,1])\n",
    "    # ax.set_aspect('equal')\n",
    "    ticks = np.linspace(-1,1,11)\n",
    "    labels = list(ticks)\n",
    "    labels = list( map( lambda x: f'{x:0.2f}' , labels) )\n",
    "    ax.set_xticks(ticks , labels = labels)\n",
    "    ax.set_yticks(ticks , labels = labels)\n",
    "    ax.grid()\n",
    "    \n",
    "def draw_points(fig , ax):\n",
    "    data = np.array([data_x , data_y , data_class]).T\n",
    "    for d in data:\n",
    "        ax.scatter( x = d[0] , y = d[1] , color = color_lis[int(d[2])] , s = 15)\n",
    "    "
   ]
  },
  {
   "cell_type": "code",
   "execution_count": 58,
   "id": "146c0635-e641-4008-a653-5b52a4e7fb49",
   "metadata": {},
   "outputs": [],
   "source": [
    "def knn_lbl(data , px , py , p , k):\n",
    "    \n",
    "    dist_lis = []\n",
    "    \n",
    "    for d in data:\n",
    "        dist = distance.minkowski( [px , py] , d[:2] , p)\n",
    "        dist_lis.append( (dist , d[2]) )\n",
    "        \n",
    "    dist_lis.sort( key = lambda x: x[0])\n",
    "    label_lis = list( map( lambda x: x[1] , dist_lis[:k] ) )\n",
    "    counts = Counter(label_lis)\n",
    "    \n",
    "    min_label = min(counts , key = lambda x: counts[x])\n",
    "    max_label = max(counts , key = lambda x: counts[x])\n",
    "    \n",
    "    if min_label == max_label:\n",
    "        return min_label\n",
    "    \n",
    "    else: return max_label\n",
    "\n",
    "def knn_bound(fig , ax):\n",
    "    \n",
    "    data = np.array( [data_x , data_y , data_class] ).T\n",
    "    \n",
    "    x_linspace = np.linspace(-1,1 , num = 101)\n",
    "    y_linspace = np.linspace(1,-1 , num = 101)\n",
    "    xm, ym = np.meshgrid(x_linspace, y_linspace)\n",
    "    lm = np.zeros(xm.shape)\n",
    "    \n",
    "    p = slider_mink.value\n",
    "    k = slider_k.value\n",
    "    \n",
    "    for i in range(xm.shape[0]):\n",
    "        for j in range(xm.shape[1]):\n",
    "            lm[i,j] = knn_lbl(data , xm[i,j] , ym[i,j] , p , k)\n",
    "    \n",
    "    initialize_grid(fig , ax)\n",
    "    \n",
    "    ax.contourf( \n",
    "        xm, ym, lm , colors = color_lis[ : class_num + 1] , levels = class_num,\n",
    "        alpha = 0.35 , antialiased = True \n",
    "    )\n",
    "    \n",
    "    draw_points( fig , ax )\n"
   ]
  },
  {
   "cell_type": "code",
   "execution_count": 59,
   "id": "48cfead8-f70e-47fc-8f56-c736670c9cf2",
   "metadata": {},
   "outputs": [
    {
     "data": {
      "application/vnd.jupyter.widget-view+json": {
       "model_id": "4aa83cbb1e7749698bfa1265816f8b72",
       "version_major": 2,
       "version_minor": 0
      },
      "text/plain": [
       "IntSlider(value=2, continuous_update=False, description='K:', max=10, min=1)"
      ]
     },
     "metadata": {},
     "output_type": "display_data"
    },
    {
     "data": {
      "application/vnd.jupyter.widget-view+json": {
       "model_id": "ce07305010824fdc8f9cc80aa971e94d",
       "version_major": 2,
       "version_minor": 0
      },
      "text/plain": [
       "IntSlider(value=2, continuous_update=False, description='Dist-Coef:', max=10, min=1)"
      ]
     },
     "metadata": {},
     "output_type": "display_data"
    },
    {
     "data": {
      "application/vnd.jupyter.widget-view+json": {
       "model_id": "b3ceddf0da704f059f5a4f7f9f06b056",
       "version_major": 2,
       "version_minor": 0
      },
      "text/plain": [
       "HBox(children=(Button(description='Add Class', style=ButtonStyle()), Button(description='Run KNN', style=Butto…"
      ]
     },
     "metadata": {},
     "output_type": "display_data"
    },
    {
     "data": {
      "application/vnd.jupyter.widget-view+json": {
       "model_id": "e4e5a32fab1045e3b83f80214ca886ad",
       "version_major": 2,
       "version_minor": 0
      },
      "image/png": "[encoded data removed]",
      "text/html": [
       "\n",
       "            <div style=\"display: inline-block;\">\n",
       "                <div class=\"jupyter-widgets widget-label\" style=\"text-align: center;\">\n",
       "                    Figure\n",
       "                </div>\n",
       "                <img src='data:image/png;base64,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' width=640.0/>\n",
       "            </div>\n",
       "        "
      ],
      "text/plain": [
       "Canvas(toolbar=Toolbar(toolitems=[('Home', 'Reset original view', 'home', 'home'), ('Back', 'Back to previous …"
      ]
     },
     "metadata": {},
     "output_type": "display_data"
    }
   ],
   "source": [
    "fig, ax = plt.subplots()\n",
    "initialize_grid(fig , ax)\n",
    "\n",
    "def onclick(event):\n",
    "    ix, iy = event.xdata, event.ydata\n",
    "    data_x.append(ix)\n",
    "    data_y.append(iy)\n",
    "    data_class.append(class_num)\n",
    "    print(class_num)\n",
    "    ax.scatter( x = [ix] , y = [iy] , color = color_lis[class_num] , s = 15)\n",
    "    \n",
    "def onaddcls(b):\n",
    "    global class_num\n",
    "    \n",
    "    if len(data_x) != 0 and data_class[-1] == class_num :\n",
    "        class_num += 1\n",
    "    \n",
    "    if class_num == 4:\n",
    "        btn_add_cls.disabled = True\n",
    "    \n",
    "def onreset(b):\n",
    "    global class_num\n",
    "    initialize_grid(fig , ax)\n",
    "    data_x.clear()\n",
    "    data_y.clear()\n",
    "    data_class.clear()\n",
    "    class_num = 0\n",
    "    btn_add_cls.disabled = False\n",
    "    \n",
    "def onknn(b):\n",
    "    knn_bound(fig, ax)\n",
    "    \n",
    "cid = fig.canvas.mpl_connect('button_press_event', onclick)\n",
    "\n",
    "btn_add_cls.on_click(onaddcls)\n",
    "btn_reset.on_click(onreset)\n",
    "btn_calc_knn.on_click(onknn)\n",
    "\n",
    "fig.canvas.draw()\n",
    "\n",
    "display(slider_k)\n",
    "display(slider_mink)\n",
    "display(widgets.HBox((btn_add_cls, btn_calc_knn , btn_reset)))\n"
   ]
  },
  {
   "cell_type": "code",
   "execution_count": null,
   "id": "4fe77d96-2f1b-4a75-9936-6d45d9066ac1",
   "metadata": {},
   "outputs": [],
   "source": []
  },
  {
   "cell_type": "code",
   "execution_count": null,
   "id": "47d4b994-9c82-4d5c-ad97-4dfdb28c9446",
   "metadata": {},
   "outputs": [],
   "source": []
  },
  {
   "cell_type": "code",
   "execution_count": null,
   "id": "26606cc6-f480-459e-bf5b-0873cbf7e3f9",
   "metadata": {},
   "outputs": [],
   "source": []
  }
 ],
 "metadata": {
  "kernelspec": {
   "display_name": "Python 3 (ipykernel)",
   "language": "python",
   "name": "python3"
  },
  "language_info": {
   "codemirror_mode": {
    "name": "ipython",
    "version": 3
   },
   "file_extension": ".py",
   "mimetype": "text/x-python",
   "name": "python",
   "nbconvert_exporter": "python",
   "pygments_lexer": "ipython3",
   "version": "3.10.5"
  }
 },
 "nbformat": 4,
 "nbformat_minor": 5
}
